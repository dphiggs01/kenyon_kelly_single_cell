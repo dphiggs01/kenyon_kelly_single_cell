{
 "cells": [
  {
   "cell_type": "code",
   "execution_count": null,
   "id": "f607d084-1596-40eb-996f-d7a193ea5c8b",
   "metadata": {},
   "outputs": [],
   "source": [
    "import pandas as pd\n",
    "import warnings\n",
    "#warnings.simplefilter(action='ignore', category=pd.errors.UserWarning)\n",
    "\n",
    "# Note if you dont find CSV file look in 'backup-runs' directory\n",
    "murphy_ts_dict = pd.read_excel('./Murphy_TS.xlsx', sheet_name=[\"intestine\",\"muscle\",'hypodermis','neurons'])\n",
    "murphy_intestine_df = murphy_ts_dict.get('intestine')\n",
    "murphy_muscle_df = murphy_ts_dict.get('muscle')\n",
    "murphy_hypodemis_df = murphy_ts_dict.get('hypodermis')\n",
    "murphy_neurons_df = murphy_ts_dict.get('neurons')\n",
    "murphy_neurons_df.head()"
   ]
  },
  {
   "cell_type": "code",
   "execution_count": null,
   "id": "9c5f4751-12d3-479b-b57d-b49f938d4229",
   "metadata": {},
   "outputs": [],
   "source": [
    "import random\n",
    "\n",
    "def select_random(unassigned_df):\n",
    "    random_unassigned = {}\n",
    "    while len(random_unassigned) < 200:\n",
    "        index = random.randint(0, unassigned_df.shape[0])\n",
    "        if index in random_unassigned.keys():\n",
    "            random_unassigned[index] +=1\n",
    "        else:\n",
    "            random_unassigned[index] =1\n",
    "\n",
    "    random_unassigned_df = pd.DataFrame() \n",
    "    random_unassigned_lst = []\n",
    "    #wormbase_id\n",
    "    for index in random_unassigned.keys():\n",
    "        random_unassigned_lst.append(unassigned_df.loc[index,['Wormbase ID']][0])\n",
    "    \n",
    "    random_unassigned_df['wormbase_id'] = random_unassigned_lst\n",
    "    return random_unassigned_df\n",
    "    \n",
    "# random_unassigned_df = select_random(unassigned_df)\n",
    "# random_unassigned_df.to_csv('random_unassigned.csv',index=False)\n",
    "# print(random_unassigned_df)"
   ]
  },
  {
   "cell_type": "code",
   "execution_count": null,
   "id": "42ded99a-9cbc-40e5-b454-39d688e33e3b",
   "metadata": {},
   "outputs": [],
   "source": [
    "#murphy_neurons_df.rename(columns={'Wormbase ID': 'wormbase_id'}, inplace=True)\n",
    "random_unassigned_df = select_random(murphy_neurons_df)\n",
    "random_unassigned_df.to_csv('random_murphy_neurons.csv',index=False)\n",
    "print(random_unassigned_df)"
   ]
  },
  {
   "cell_type": "code",
   "execution_count": null,
   "id": "7f86265f-5c4b-495b-b11a-6cb119a0368f",
   "metadata": {},
   "outputs": [],
   "source": []
  }
 ],
 "metadata": {
  "kernelspec": {
   "display_name": "Python [conda env:amy-dev]",
   "language": "python",
   "name": "conda-env-amy-dev-py"
  },
  "language_info": {
   "codemirror_mode": {
    "name": "ipython",
    "version": 3
   },
   "file_extension": ".py",
   "mimetype": "text/x-python",
   "name": "python",
   "nbconvert_exporter": "python",
   "pygments_lexer": "ipython3",
   "version": "3.8.13"
  }
 },
 "nbformat": 4,
 "nbformat_minor": 5
}
