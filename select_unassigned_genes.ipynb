{
 "cells": [
  {
   "cell_type": "markdown",
   "id": "d78a91aa-50ef-4264-b437-96df18d13da4",
   "metadata": {},
   "source": [
    "## Select the top 200 Most Occurring Unknown genes and the 200 Least Occurring Unknown genes\n",
    "\n",
    "We are simply looking at the count of occurrences and not the level of expression"
   ]
  },
  {
   "cell_type": "code",
   "execution_count": null,
   "id": "b3cf7490-dd47-4b00-a08a-5a73cb1b1871",
   "metadata": {},
   "outputs": [],
   "source": [
    "# Load worm cat data and select the Unassigned\n",
    "\n",
    "import anndata as ad\n",
    "import pandas as pd\n",
    "from scipy.sparse import csr_matrix\n",
    "\n",
    "# Note if you dont find CSV file look in 'backup-runs' directory\n",
    "worm_cat_df = pd.read_csv('whole_genome_v2_nov-11-2021.csv') \n",
    "unassigned_df = worm_cat_df[worm_cat_df['Category 1']=='Unassigned']\n",
    "unassigned_df.reset_index(drop=True, inplace=True)\n",
    "print(f\"We have {len(unassigned_df):,} Unassigned genes in Category 1\")\n"
   ]
  },
  {
   "cell_type": "code",
   "execution_count": null,
   "id": "eae669e1-3f93-4dd5-9a02-085f2f0a8319",
   "metadata": {
    "tags": []
   },
   "outputs": [],
   "source": [
    "# Load the h5ad file and set common variables\n",
    "ad_worm_aging = ad.read(\"ad_worm_aging.h5ad\")\n",
    "\n",
    "x_df = pd.DataFrame(data=csr_matrix.todense(ad_worm_aging.X))\n",
    "\n",
    "obs_df = ad_worm_aging.obs\n",
    "obs_df.reset_index(drop=True, inplace=True)\n",
    "\n",
    "var_df = ad_worm_aging.var\n",
    "var_df.reset_index(drop=True, inplace=True)\n"
   ]
  },
  {
   "cell_type": "code",
   "execution_count": null,
   "id": "0a033c5e-e2dc-4685-b66d-8b3da73da292",
   "metadata": {},
   "outputs": [],
   "source": [
    "# Get a list of unique cell types\n",
    "cell_types = obs_df['annotate_name'].unique()\n",
    "print(f\"We have {len(cell_types)} unique Cell types\")"
   ]
  },
  {
   "cell_type": "code",
   "execution_count": null,
   "id": "e52a8842-c1df-4c67-8f88-f2a132ac606f",
   "metadata": {},
   "outputs": [],
   "source": [
    "# find index in x_df for Wormbase ID (column position)\n",
    "# each column in the x_df is a gene. we are mapping the column position so we can index to the associated gene\n",
    "import warnings\n",
    "warnings.simplefilter(action=\"ignore\", category=pd.errors.SettingWithCopyWarning)\n",
    "\n",
    "def find_index(row):\n",
    "    ret_val = var_df.index[var_df['gene_ids'] == row['Wormbase ID']].tolist()\n",
    "    if ret_val == []:\n",
    "        ret_val = None\n",
    "    else:\n",
    "        ret_val = ret_val[0]\n",
    "    return ret_val\n",
    "\n",
    "unassigned_df['gene_index'] = unassigned_df.apply(lambda row: find_index(row), axis=1)\n",
    "print(f\"We have {unassigned_df['gene_index'].isna().sum()} Unassigned genes that are not represented in the dataset\")\n",
    "print(f\"That is %{round(unassigned_df['gene_index'].isna().sum()/len(unassigned_df)*100,2)} of Unassigned genes\")\n",
    "\n",
    "# unassigned_in_ds_df is the unassigned that are also in the dataset\n",
    "unassigned_in_ds_df = unassigned_df[unassigned_df['gene_index'].notna()]\n",
    "print(f\"After removing the not represented rows we have {len(unassigned_in_ds_df['gene_index']):,} Unassigned genes\")"
   ]
  },
  {
   "cell_type": "code",
   "execution_count": null,
   "id": "40cde65a-e8b4-4d0b-b43f-8a30633b3b3e",
   "metadata": {},
   "outputs": [],
   "source": [
    "# For each unknown gene count the number of non-zero entries for all cells/observations\n",
    "# the result is a dictionary with gene index as key and cell_counts as value\n",
    "\n",
    "# NOTE: This will take a few minutes to run!!\n",
    "import time\n",
    "\n",
    "results_dict={}\n",
    "start = time.time()\n",
    "for index in unassigned_in_ds_df['gene_index']:\n",
    "    cell_count = x_df[x_df[index]>0].count()[index]\n",
    "    results_dict[index]=cell_count\n",
    "\n",
    "end = time.time()\n",
    "m, s = divmod(round(end - start), 60)\n",
    "h, m = divmod(m, 60)\n",
    "print(f\"Time for call hours {h:d} minutes {m:02d} seconds {s:02d} \")\n",
    "results_dict_sorted = {k: v for k, v in sorted(results_dict.items(), key=lambda item: item[1])}\n"
   ]
  },
  {
   "cell_type": "code",
   "execution_count": null,
   "id": "86131e42-0cf1-44ce-b304-b5a18e26ca25",
   "metadata": {},
   "outputs": [],
   "source": [
    "# Select the least occuring 200 genes and the most occuring 200 genes\n",
    "\n",
    "results_lst_sorted = list(results_dict_sorted.keys())\n",
    "first_200 = results_lst_sorted[0:200]\n",
    "last_200 = results_lst_sorted[-200:]\n",
    "\n",
    "def find_wormbase_id(index):\n",
    "    ret_val = var_df.loc[index,['gene_ids']]\n",
    "    return ret_val[0]\n",
    "\n",
    "first_200_lst = []\n",
    "for index in first_200:\n",
    "    first_200_lst.append(find_wormbase_id(index))\n",
    "first_200_df = pd.DataFrame (first_200_lst, columns = ['wormbase_id'])\n",
    "first_200_df.to_csv(\"least_occurring_unknown.csv\",index=False)\n",
    "    \n",
    "last_200_lst = []\n",
    "for index in last_200:\n",
    "    last_200_lst.append(find_wormbase_id(index))\n",
    "last_200_df = pd.DataFrame (last_200_lst, columns = ['wormbase_id'])\n",
    "last_200_df.to_csv(\"most_occurring_unknown.csv\",index=False)"
   ]
  },
  {
   "cell_type": "markdown",
   "id": "55b4ec7e-b85a-435a-b1af-c4a577735ce4",
   "metadata": {},
   "source": [
    "## Select all Unassigned: membrane spanning domain genes from wormcat"
   ]
  },
  {
   "cell_type": "code",
   "execution_count": null,
   "id": "38af2044-d6a2-4206-9b4c-ea8b4c8ef5f7",
   "metadata": {},
   "outputs": [],
   "source": [
    "import random\n",
    "\n",
    "worm_cat_df = pd.read_csv('whole_genome_v2_nov-11-2021.csv') \n",
    "\n",
    "unassigned_msd_df = worm_cat_df[worm_cat_df['Category 3']=='Unassigned: membrane spanning domain']\n",
    "unassigned_msd_series = unassigned_msd_df['Wormbase ID']\n",
    "unassigned_msd_df.reset_index(drop=True, inplace=True)\n",
    "unassigned_msd_ids_df = unassigned_msd_series.to_frame()\n",
    "unassigned_msd_ids_df.rename(columns={'Wormbase ID': 'wormbase_id'}, inplace=True)\n",
    "unassigned_msd_ids_df.to_csv('membrane_unassigned.csv',index=False)\n",
    "#print(unassigned_msd_ids_df)"
   ]
  },
  {
   "cell_type": "markdown",
   "id": "06153756-8d37-4838-a978-06850d102e0e",
   "metadata": {},
   "source": [
    "## Select 200 Random Unssigned Genes from Wormcat Category 1"
   ]
  },
  {
   "cell_type": "code",
   "execution_count": null,
   "id": "0e7fbc28-7216-4fca-8262-fecbfae75d4b",
   "metadata": {},
   "outputs": [],
   "source": [
    "# The genes below are Worm Cat Category 1 Unassigned\n",
    "import random\n",
    "\n",
    "worm_cat_df = pd.read_csv('whole_genome_v2_nov-11-2021.csv') \n",
    "\n",
    "unassigned_df = worm_cat_df[worm_cat_df['Category 1']=='Unassigned']\n",
    "unassigned_df.reset_index(drop=True, inplace=True)\n",
    "\n",
    "\n",
    "def select_random(unassigned_df, max_genes=200):\n",
    "    random_unassigned = {}\n",
    "    while len(random_unassigned) < max_genes:\n",
    "        index = random.randint(0, unassigned_df.shape[0])\n",
    "        if index in random_unassigned.keys():\n",
    "            random_unassigned[index] +=1\n",
    "        else:\n",
    "            random_unassigned[index] =1\n",
    "\n",
    "    random_unassigned_df = pd.DataFrame() \n",
    "    random_unassigned_lst = []\n",
    "    #wormbase_id\n",
    "    for index in random_unassigned.keys():\n",
    "        random_unassigned_lst.append(unassigned_df.loc[index,['Wormbase ID']][0])\n",
    "    \n",
    "    random_unassigned_df['wormbase_id'] = random_unassigned_lst\n",
    "    return random_unassigned_df\n",
    "    \n",
    "random_unassigned_df = select_random(unassigned_df)\n",
    "\n",
    "random_unassigned_df.to_csv('random_unassigned.csv',index=False)\n",
    "print(random_unassigned_df)"
   ]
  },
  {
   "cell_type": "markdown",
   "id": "39312af2-3372-49ae-a490-eb91f70381a5",
   "metadata": {},
   "source": [
    "## Hypothesis Cell Types\n",
    "\n",
    "* Discover unknown genes that are isolated to a specific cell type\n",
    "\n",
    "* Discover unknown genes that are pervasive across cell types\n",
    "\n",
    "* Identify cell types with no uknown genes\n"
   ]
  },
  {
   "cell_type": "code",
   "execution_count": null,
   "id": "724c9bac-5636-4f39-b170-848e019b5045",
   "metadata": {},
   "outputs": [],
   "source": [
    "#unknown_df = unassigned_df.copy(deep=True)\n",
    "cell_types = obs_df['annotate_name'].unique()"
   ]
  },
  {
   "cell_type": "code",
   "execution_count": null,
   "id": "56fe17cb-f77f-41e4-b26a-1bff8dc30888",
   "metadata": {},
   "outputs": [],
   "source": [
    "# Create a dictionary with all cell types and a list of observations that the cell type appears in\n",
    "\n",
    "cell_type_dict = {}\n",
    "for cell_type in cell_types:\n",
    "    cells = obs_df[obs_df['annotate_name']==cell_type]\n",
    "    cell_type_dict[cell_type] = cells.index.values.tolist()\n",
    "    \n",
    "#cell_type_dict"
   ]
  },
  {
   "cell_type": "code",
   "execution_count": null,
   "id": "41e43a35-3605-4019-873c-2a9f9755b7b2",
   "metadata": {},
   "outputs": [],
   "source": [
    "import numpy as np\n",
    "\n",
    "\n",
    "# Take a single observation and count the unknown genes that are present\n",
    "def unknown_gene_count(cell_attribs, unknown_genes_array, unassigned_in_ds_df):\n",
    "    cell_attribs_lst = cell_attribs.tolist()\n",
    "    \n",
    "    index=0\n",
    "    for gene_pos in unassigned_in_ds_df['gene_index']:\n",
    "        if cell_attribs_lst[int(gene_pos)] > 0: #If gene is expressed in the cell at any level increment count\n",
    "            unknown_genes_array[index] += 1\n",
    "        index +=1\n",
    "    return unknown_genes_array\n",
    "        \n",
    "\n",
    "# Used for testing    \n",
    "# cell_attribs = x_df.loc[0]\n",
    "# print(len(cell_attribs))\n",
    "# unknown_genes_array = np.zeros(len(unassigned_df['gene_index']), dtype = int)\n",
    "# ret_val = unknown_gene_count(cell_attribs,unknown_genes_array)\n",
    "# print(len(ret_val))\n",
    "# print(ret_val.sum())"
   ]
  },
  {
   "cell_type": "code",
   "execution_count": null,
   "id": "64759fd6-7cce-49d0-999d-24f38c08e90e",
   "metadata": {},
   "outputs": [],
   "source": [
    "import time\n",
    "import warnings\n",
    "warnings.simplefilter(action='ignore', category=pd.errors.PerformanceWarning)\n",
    "\n",
    "start = time.time()\n",
    "# Create a copy of unassigned_in_ds_df and prepare to append cell type data\n",
    "unassigned_mapped_to_cell_type_df = unassigned_in_ds_df.copy(deep=True)\n",
    "unassigned_mapped_to_cell_type_df.drop(['Category 1','Category 2','Category 3','Automated Description'], inplace=True, axis=1)\n",
    "\n",
    "for key in cell_type_dict.keys():\n",
    "    unknown_genes_array = np.zeros(len(unassigned_in_ds_df['gene_index']), dtype = int)\n",
    "    for observation in cell_type_dict[key]:\n",
    "        cell_attribs = x_df.loc[observation]\n",
    "        unknown_genes_array = unknown_gene_count(cell_attribs, unknown_genes_array, unassigned_in_ds_df)\n",
    "    unassigned_mapped_to_cell_type_df[key]=unknown_genes_array\n",
    "\n",
    "end = time.time()\n",
    "m, s = divmod(round(end - start), 60)\n",
    "h, m = divmod(m, 60)\n",
    "print(f\"Time for call hours {h:d} minutes {m:02d} seconds {s:02d} \")    \n",
    "unassigned_mapped_to_cell_type_df.to_csv(\"unassigned_mapped_to_cell_type_df.csv\",index=False)"
   ]
  },
  {
   "cell_type": "code",
   "execution_count": null,
   "id": "577cf5d4-7e66-4b4c-a493-bb0df83e61ac",
   "metadata": {},
   "outputs": [],
   "source": [
    "# Identify cell types with no uknown genes\n",
    "\n",
    "# All Cell Types have some level of interaction with Unknown Genes\n",
    "# '3_3:germline, sperm' has the lowest level with 320 counts this makes sense since there are only 4 observation that make up this cell type [2003, 15156, 17008, 40736]\n",
    "# 0_0:seam cell has the highest with 321,367 this may also make sense since 2,202 observations contrubute to this cell type\n",
    "\n",
    "cell_types_gene_count_dict = {}\n",
    "for key in cell_type_dict.keys():\n",
    "    count = unassigned_mapped_to_cell_type_df[key].sum()\n",
    "    cell_types_gene_count_dict[key]= count\n",
    "\n",
    "cell_types_gene_count_dict_sorted = {k: v for k, v in sorted(cell_types_gene_count_dict.items(), key=lambda item: item[1])}\n",
    "for key in cell_types_gene_count_dict_sorted.keys():\n",
    "    print(f\"{key:<60} {cell_types_gene_count_dict_sorted[key]:>5,}\")\n",
    "    \n"
   ]
  },
  {
   "cell_type": "code",
   "execution_count": null,
   "id": "1365025c-7361-4a9b-9dde-a50342cec9d1",
   "metadata": {},
   "outputs": [],
   "source": [
    "# Discover unknown genes that are isolated to a specific cell type\n",
    "\n",
    "# Start by creating a temp dataframe with just the Wormbased IDs of the unknowns\n",
    "temp_df = unassigned_mapped_to_cell_type_df['Wormbase ID'].copy().to_frame()\n",
    "print(len(temp_df))\n",
    "\n",
    "# A simple function to sum up the colums related to cell types\n",
    "def sum_category_counts(row):\n",
    "     return row[3:].sum()\n",
    "    \n",
    "# Create a new column named counts with total for all indivudual cell types\n",
    "temp_series =  unassigned_mapped_to_cell_type_df.apply(lambda row: sum_category_counts(row), axis=1)\n",
    "temp_df['counts'] = temp_series\n",
    "\n",
    "# Sort the data by 'counts' and write to a csv file\n",
    "temp_df = temp_df.sort_values('counts')\n",
    "temp_df.to_csv('isolated2cellType.csv',index=False)\n",
    "temp_df"
   ]
  },
  {
   "cell_type": "code",
   "execution_count": null,
   "id": "c4c4adcc-766d-4a78-b767-e37e911806fa",
   "metadata": {},
   "outputs": [],
   "source": [
    "# Given a row with a wormbase ID look up the same 'Wormbase ID' in the unassigned_mapped_to_cell_type_df dataframe\n",
    "# This dataframe has the counts of the number of times that the 'Wormbase ID' was expressed in any observation for this cell type\n",
    "# It does not include the level of expression only if the gene was on or not\n",
    "\n",
    "cell_type_list = list(cell_type_dict.keys())\n",
    "\n",
    "#This is a complete hack peace of sh#$%@&t\n",
    "def cell_types(row_a):\n",
    "    result = unassigned_mapped_to_cell_type_df.loc[unassigned_mapped_to_cell_type_df['Wormbase ID']==row_a['Wormbase ID']]\n",
    "    row = result.iloc[0]\n",
    "    #print(row_a['Wormbase ID'])\n",
    "    cell_type_lst = []\n",
    "    pos=0\n",
    "    for attrib in row:\n",
    "        pos +=1\n",
    "        if pos > 3 and attrib >0:\n",
    "            cell_type_lst.append(cell_type_list[pos-4])\n",
    "    \n",
    "    print(cell_type_lst)\n",
    "    return cell_type_lst\n",
    "\n",
    "\n",
    "   "
   ]
  },
  {
   "cell_type": "code",
   "execution_count": null,
   "id": "42ec96af-9699-4bf8-9111-6c44c2d40197",
   "metadata": {},
   "outputs": [],
   "source": [
    "# Here we get down to the details of unknown genes that are isolated to a specific cell type\n",
    "import warnings\n",
    "warnings.simplefilter(action='ignore', category=pd.errors.SettingWithCopyWarning)\n",
    "\n",
    "temp_df_20 = temp_df.loc[temp_df['counts']<3]\n",
    "temp_df_20['cell_types'] =  temp_df_20.apply(lambda row: cell_types(row), axis=1)\n",
    "temp_df_20.to_csv('isolated2cellType.csv',index=False)"
   ]
  },
  {
   "cell_type": "markdown",
   "id": "4d9153c4-1031-4e11-82e7-c87125e2373f",
   "metadata": {},
   "source": [
    "## Select all Category 1 'Muscle function' genes from wormcat"
   ]
  },
  {
   "cell_type": "code",
   "execution_count": null,
   "id": "d1af3390-bbcc-473f-8c09-ced6aa470f8c",
   "metadata": {},
   "outputs": [],
   "source": [
    "# Load worm cat data and select the unknowns\n",
    "\n",
    "import anndata as ad\n",
    "import pandas as pd\n",
    "from scipy.sparse import csr_matrix\n",
    "\n",
    "worm_cat_df = pd.read_csv('whole_genome_v2_nov-11-2021.csv') \n",
    "muscle_function_df = worm_cat_df[worm_cat_df['Category 1']=='Muscle function']\n",
    "muscle_function_df.drop(['Sequence ID','Category 1','Category 2','Category 3','Automated Description'], inplace=True, axis=1)\n",
    "muscle_function_df.rename(columns={'Wormbase ID': 'wormbase_id'}, inplace=True)\n",
    "muscle_function_df.reset_index(drop=True, inplace=True)\n",
    "muscle_function_df.to_csv('muscle_function.csv',index=False)\n",
    "print(f\"Muscle function = {len(muscle_function_df):,}\")\n",
    "print(muscle_function_df)"
   ]
  }
 ],
 "metadata": {
  "kernelspec": {
   "display_name": "Python 3 (ipykernel)",
   "language": "python",
   "name": "python3"
  },
  "language_info": {
   "codemirror_mode": {
    "name": "ipython",
    "version": 3
   },
   "file_extension": ".py",
   "mimetype": "text/x-python",
   "name": "python",
   "nbconvert_exporter": "python",
   "pygments_lexer": "ipython3",
   "version": "3.7.10"
  }
 },
 "nbformat": 4,
 "nbformat_minor": 5
}
